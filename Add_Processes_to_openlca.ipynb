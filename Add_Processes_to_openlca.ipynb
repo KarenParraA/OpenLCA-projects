{
 "cells": [
  {
   "cell_type": "markdown",
   "id": "efc0d7aa-a3fd-4142-b35d-452e6b38dac8",
   "metadata": {},
   "source": [
    "# Script for adding processes and flows in OpenLCA with olca\n"
   ]
  },
  {
   "cell_type": "code",
   "execution_count": 1,
   "id": "0786fb42-3aea-44bc-863e-12fbde369d55",
   "metadata": {},
   "outputs": [
    {
     "data": {
      "text/html": [
       "\n",
       "        <iframe\n",
       "            width=\"950\"\n",
       "            height=\"500\"\n",
       "            src=\"https://nexus.openlca.org/database/ELCD\"\n",
       "            frameborder=\"0\"\n",
       "            allowfullscreen\n",
       "            \n",
       "        ></iframe>\n",
       "        "
      ],
      "text/plain": [
       "<IPython.lib.display.IFrame at 0x14d3c933b50>"
      ]
     },
     "execution_count": 1,
     "metadata": {},
     "output_type": "execute_result"
    }
   ],
   "source": [
    "from IPython.display import IFrame\n",
    "IFrame('https://nexus.openlca.org/database/ELCD', width=950, height=500)"
   ]
  },
  {
   "cell_type": "code",
   "execution_count": 44,
   "id": "c732ab28-15b0-44a4-9a76-fadeed6cc934",
   "metadata": {},
   "outputs": [
    {
     "data": {
      "text/plain": [
       "<olca.ipc.Client at 0x14d4c8f22f0>"
      ]
     },
     "execution_count": 44,
     "metadata": {},
     "output_type": "execute_result"
    }
   ],
   "source": [
    "import pandas as pd\n",
    "pd.set_option('display.max_colwidth', None)\n",
    "import olca\n",
    "import uuid\n",
    "import math\n",
    "from datetime import datetime\n",
    "from itertools import chain\n",
    "\n",
    "from matplotlib import pyplot as plt\n",
    "\n",
    "params = {'mathtext.default': 'regular' }\n",
    "\n",
    "client = olca.Client(8080)\n",
    "client"
   ]
  },
  {
   "cell_type": "code",
   "execution_count": 45,
   "id": "72644a7d-b905-47eb-a07f-a742068e44c0",
   "metadata": {},
   "outputs": [
    {
     "data": {
      "text/plain": [
       "<AxesSubplot:xlabel='MRR [mm³/s]'>"
      ]
     },
     "execution_count": 45,
     "metadata": {},
     "output_type": "execute_result"
    },
    {
     "data": {
      "image/png": "[encoded data removed]",
      "text/plain": [
       "<Figure size 432x288 with 1 Axes>"
      ]
     },
     "metadata": {
      "needs_background": "light"
     },
     "output_type": "display_data"
    }
   ],
   "source": [
    "MRR_list = list(range(1, 251, 5))\n",
    "SE_list = [160 * element**(-0.5) for element in MRR_list]\n",
    "\n",
    "df_MRR = pd.DataFrame({'MRR [mm³/s]': MRR_list, 'SE [J/mm³]': SE_list })\n",
    "\n",
    "df_MRR.plot(x='MRR [mm³/s]', y='SE [J/mm³]') "
   ]
  },
  {
   "cell_type": "code",
   "execution_count": 46,
   "id": "0078aa5c-faa3-4b12-a707-e3aafff7fea7",
   "metadata": {},
   "outputs": [
    {
     "data": {
      "text/html": [
       "<div>\n",
       "<style scoped>\n",
       "    .dataframe tbody tr th:only-of-type {\n",
       "        vertical-align: middle;\n",
       "    }\n",
       "\n",
       "    .dataframe tbody tr th {\n",
       "        vertical-align: top;\n",
       "    }\n",
       "\n",
       "    .dataframe thead th {\n",
       "        text-align: right;\n",
       "    }\n",
       "</style>\n",
       "<table border=\"1\" class=\"dataframe\">\n",
       "  <thead>\n",
       "    <tr style=\"text-align: right;\">\n",
       "      <th></th>\n",
       "      <th>in/out</th>\n",
       "      <th>flow</th>\n",
       "      <th>amount</th>\n",
       "      <th>unit</th>\n",
       "      <th>ref flow</th>\n",
       "      <th>provider</th>\n",
       "    </tr>\n",
       "  </thead>\n",
       "  <tbody>\n",
       "    <tr>\n",
       "      <th>0</th>\n",
       "      <td>in</td>\n",
       "      <td>Steel sections</td>\n",
       "      <td>1</td>\n",
       "      <td>kg</td>\n",
       "      <td>False</td>\n",
       "      <td>09d61948-238a-40e7-8e1f-afdc0c98f902</td>\n",
       "    </tr>\n",
       "    <tr>\n",
       "      <th>1</th>\n",
       "      <td>in</td>\n",
       "      <td>Electricity</td>\n",
       "      <td>8*MRR^(-0.5)</td>\n",
       "      <td>MJ</td>\n",
       "      <td>False</td>\n",
       "      <td>7e00d0fc-473a-4c90-89e5-0a586010bf31</td>\n",
       "    </tr>\n",
       "    <tr>\n",
       "      <th>2</th>\n",
       "      <td>out</td>\n",
       "      <td>Steel scrap</td>\n",
       "      <td>0.3935</td>\n",
       "      <td>kg</td>\n",
       "      <td>False</td>\n",
       "      <td>11f67def-dc2a-4e74-bb4f-885610a9ae9c</td>\n",
       "    </tr>\n",
       "    <tr>\n",
       "      <th>3</th>\n",
       "      <td>out</td>\n",
       "      <td>machined steel section</td>\n",
       "      <td>0.6065</td>\n",
       "      <td>kg</td>\n",
       "      <td>True</td>\n",
       "      <td></td>\n",
       "    </tr>\n",
       "  </tbody>\n",
       "</table>\n",
       "</div>"
      ],
      "text/plain": [
       "  in/out                    flow        amount unit  ref flow  \\\n",
       "0     in          Steel sections             1   kg     False   \n",
       "1     in             Electricity  8*MRR^(-0.5)   MJ     False   \n",
       "2    out             Steel scrap        0.3935   kg     False   \n",
       "3    out  machined steel section        0.6065   kg      True   \n",
       "\n",
       "                               provider  \n",
       "0  09d61948-238a-40e7-8e1f-afdc0c98f902  \n",
       "1  7e00d0fc-473a-4c90-89e5-0a586010bf31  \n",
       "2  11f67def-dc2a-4e74-bb4f-885610a9ae9c  \n",
       "3                                        "
      ]
     },
     "execution_count": 46,
     "metadata": {},
     "output_type": "execute_result"
    }
   ],
   "source": [
    "df_process_char = pd.DataFrame({'in/out': ['in', 'in', 'out', 'out'],\n",
    "                                'flow': ['Steel sections', 'Electricity', 'Steel scrap', 'machined steel section'],\n",
    "                                'amount':[1, '8*MRR^(-0.5)', 0.3935, 0.6065],\n",
    "                                'unit': ['kg', 'MJ', 'kg', 'kg'],\n",
    "                                'ref flow': [False, False, False, True],\n",
    "                                'provider': ['09d61948-238a-40e7-8e1f-afdc0c98f902', '7e00d0fc-473a-4c90-89e5-0a586010bf31', '11f67def-dc2a-4e74-bb4f-885610a9ae9c', '']\n",
    "                               })\n",
    "df_process_char "
   ]
  },
  {
   "cell_type": "code",
   "execution_count": 47,
   "id": "39e5f397-3e17-4700-a7af-a7bfee27389e",
   "metadata": {},
   "outputs": [
    {
     "data": {
      "text/plain": [
       "'ok'"
      ]
     },
     "execution_count": 47,
     "metadata": {},
     "output_type": "execute_result"
    }
   ],
   "source": [
    "dt_object = datetime.fromtimestamp(datetime.timestamp(datetime.now()))\n",
    "\n",
    "\n",
    "mass = client.find(olca.FlowProperty, 'Mass')\n",
    "\n",
    "new_flow = olca.product_flow_of('machined steel section', mass)\n",
    "new_flow.description = 'Added via olca-ipc on %s.' % (dt_object)\n",
    "client.insert(new_flow) "
   ]
  },
  {
   "cell_type": "code",
   "execution_count": 48,
   "id": "d9e1923e-cdde-4f3e-876a-dfaaa6d7307f",
   "metadata": {},
   "outputs": [
    {
     "data": {
      "text/plain": [
       "'ok'"
      ]
     },
     "execution_count": 48,
     "metadata": {},
     "output_type": "execute_result"
    }
   ],
   "source": [
    "dt_object = datetime.fromtimestamp(datetime.timestamp(datetime.now()))\n",
    "\n",
    "new_process = olca.process_of('Machining steel sections, removing 50 cm³ (parametrized)')\n",
    "new_process.description = 'Added via olca-ipc on %s.' % (dt_object)\n",
    "client.insert(new_process)"
   ]
  },
  {
   "cell_type": "code",
   "execution_count": 49,
   "id": "9c255567-9c29-4bbc-bf5e-f7f768a6542d",
   "metadata": {},
   "outputs": [
    {
     "data": {
      "text/html": [
       "<div>\n",
       "<style scoped>\n",
       "    .dataframe tbody tr th:only-of-type {\n",
       "        vertical-align: middle;\n",
       "    }\n",
       "\n",
       "    .dataframe tbody tr th {\n",
       "        vertical-align: top;\n",
       "    }\n",
       "\n",
       "    .dataframe thead th {\n",
       "        text-align: right;\n",
       "    }\n",
       "</style>\n",
       "<table border=\"1\" class=\"dataframe\">\n",
       "  <thead>\n",
       "    <tr style=\"text-align: right;\">\n",
       "      <th></th>\n",
       "      <th>in/out</th>\n",
       "      <th>flow</th>\n",
       "      <th>amount</th>\n",
       "      <th>unit</th>\n",
       "      <th>ref flow</th>\n",
       "      <th>id</th>\n",
       "      <th>provider</th>\n",
       "    </tr>\n",
       "  </thead>\n",
       "  <tbody>\n",
       "    <tr>\n",
       "      <th>0</th>\n",
       "      <td>in</td>\n",
       "      <td>Steel sections</td>\n",
       "      <td>1</td>\n",
       "      <td>kg</td>\n",
       "      <td>False</td>\n",
       "      <td>4b51abed-8b83-4135-820c-d421463d80cf</td>\n",
       "      <td>09d61948-238a-40e7-8e1f-afdc0c98f902</td>\n",
       "    </tr>\n",
       "    <tr>\n",
       "      <th>1</th>\n",
       "      <td>in</td>\n",
       "      <td>Electricity</td>\n",
       "      <td>8*MRR^(-0.5)</td>\n",
       "      <td>MJ</td>\n",
       "      <td>False</td>\n",
       "      <td>f9d24380-e9fa-41d8-a428-efce2dfe313e</td>\n",
       "      <td>7e00d0fc-473a-4c90-89e5-0a586010bf31</td>\n",
       "    </tr>\n",
       "    <tr>\n",
       "      <th>2</th>\n",
       "      <td>out</td>\n",
       "      <td>Steel scrap</td>\n",
       "      <td>0.3935</td>\n",
       "      <td>kg</td>\n",
       "      <td>False</td>\n",
       "      <td>5102d55f-e091-4c7d-b3c7-bf26cfb1097e</td>\n",
       "      <td>11f67def-dc2a-4e74-bb4f-885610a9ae9c</td>\n",
       "    </tr>\n",
       "    <tr>\n",
       "      <th>3</th>\n",
       "      <td>out</td>\n",
       "      <td>machined steel section</td>\n",
       "      <td>0.6065</td>\n",
       "      <td>kg</td>\n",
       "      <td>True</td>\n",
       "      <td>cefd41bb-5ed0-4558-b240-828e202c8d66</td>\n",
       "      <td></td>\n",
       "    </tr>\n",
       "  </tbody>\n",
       "</table>\n",
       "</div>"
      ],
      "text/plain": [
       "  in/out                    flow        amount unit  ref flow  \\\n",
       "0     in          Steel sections             1   kg     False   \n",
       "1     in             Electricity  8*MRR^(-0.5)   MJ     False   \n",
       "2    out             Steel scrap        0.3935   kg     False   \n",
       "3    out  machined steel section        0.6065   kg      True   \n",
       "\n",
       "                                     id                              provider  \n",
       "0  4b51abed-8b83-4135-820c-d421463d80cf  09d61948-238a-40e7-8e1f-afdc0c98f902  \n",
       "1  f9d24380-e9fa-41d8-a428-efce2dfe313e  7e00d0fc-473a-4c90-89e5-0a586010bf31  \n",
       "2  5102d55f-e091-4c7d-b3c7-bf26cfb1097e  11f67def-dc2a-4e74-bb4f-885610a9ae9c  \n",
       "3  cefd41bb-5ed0-4558-b240-828e202c8d66                                        "
      ]
     },
     "execution_count": 49,
     "metadata": {},
     "output_type": "execute_result"
    }
   ],
   "source": [
    "#finding the flow ids, also for the newly created flow ...\n",
    "\n",
    "target_refs = []\n",
    "\n",
    "for index, row in df_process_char.iterrows():\n",
    "    all_obj = client.get_descriptors(olca.Flow)\n",
    "    cache = [obj for obj in all_obj if df_process_char['flow'][index] == obj.name]\n",
    "    target_refs.append(cache)\n",
    "target_refs = list(chain(*target_refs))    #de-nesting list\n",
    "\n",
    "target_names = [obj.name for obj in target_refs]\n",
    "target_ids = [obj.id for obj in target_refs]\n",
    "\n",
    "flow_df = pd.DataFrame(list(zip(target_names, target_ids)), columns = ['name', 'id'])\n",
    "#flow_df\n",
    "\n",
    "#adding flow ids to the original table\n",
    "\n",
    "df_process_char = pd.concat([df_process_char , flow_df['id']], axis=1)\n",
    "df_process_char = df_process_char[['in/out', 'flow', 'amount', 'unit', 'ref flow', 'id', 'provider']]\n",
    "df_process_char = df_process_char.fillna('')\n",
    "#df_process_char.dropna(axis=1,thresh=4, inplace=True)\n",
    "df_process_char"
   ]
  },
  {
   "cell_type": "code",
   "execution_count": 50,
   "id": "6d14753b-0985-45fb-8647-09c56dbd4188",
   "metadata": {},
   "outputs": [
    {
     "name": "stderr",
     "output_type": "stream",
     "text": [
      "ERROR:root:failed to get entity of type <class 'olca.schema.Process'>: 404: Not found\n",
      "ERROR:root:failed to get entity of type <class 'olca.schema.Process'>: 404: Not found\n",
      "ERROR:root:failed to get entity of type <class 'olca.schema.Process'>: 404: Not found\n"
     ]
    },
    {
     "data": {
      "text/plain": [
       "[Exchange(id='', olca_type='Exchange', avoided_product=None, cost_formula=None, cost_value=None, currency=None, internal_id=1, flow=Ref(id='4b51abed-8b83-4135-820c-d421463d80cf', olca_type='Flow', name='machined steel section', description=None, version=None, last_change=None, category_path=None, library=None, ref_unit=None, location=None, flow_type=None, process_type=None), flow_property=None, input=True, quantitative_reference=None, base_uncertainty=None, default_provider=None, amount=1, amount_formula=None, unit=None, dq_entry=None, uncertainty=None, description=None),\n",
       " Exchange(id='', olca_type='Exchange', avoided_product=None, cost_formula=None, cost_value=None, currency=None, internal_id=2, flow=Ref(id='f9d24380-e9fa-41d8-a428-efce2dfe313e', olca_type='Flow', name='machined steel section', description=None, version=None, last_change=None, category_path=None, library=None, ref_unit=None, location=None, flow_type=None, process_type=None), flow_property=None, input=True, quantitative_reference=None, base_uncertainty=None, default_provider=None, amount=None, amount_formula='8*MRR^(-0.5)', unit=None, dq_entry=None, uncertainty=None, description=None),\n",
       " Exchange(id='', olca_type='Exchange', avoided_product=None, cost_formula=None, cost_value=None, currency=None, internal_id=3, flow=Ref(id='5102d55f-e091-4c7d-b3c7-bf26cfb1097e', olca_type='Flow', name='machined steel section', description=None, version=None, last_change=None, category_path=None, library=None, ref_unit=None, location=None, flow_type=None, process_type=None), flow_property=None, input=False, quantitative_reference=None, base_uncertainty=None, default_provider=None, amount=0.3935, amount_formula=None, unit=None, dq_entry=None, uncertainty=None, description=None),\n",
       " Exchange(id='', olca_type='Exchange', avoided_product=None, cost_formula=None, cost_value=None, currency=None, internal_id=4, flow=Ref(id='cefd41bb-5ed0-4558-b240-828e202c8d66', olca_type='Flow', name='machined steel section', description=None, version=None, last_change=None, category_path=None, library=None, ref_unit=None, location=None, flow_type=None, process_type=None), flow_property=None, input=False, quantitative_reference=True, base_uncertainty=None, default_provider=None, amount=0.6065, amount_formula=None, unit=None, dq_entry=None, uncertainty=None, description=None)]"
      ]
     },
     "execution_count": 50,
     "metadata": {},
     "output_type": "execute_result"
    }
   ],
   "source": [
    "#creating a list of exchange objects\n",
    "\n",
    "list_exchanges = []\n",
    "\n",
    "for index, row in df_process_char.iterrows():\n",
    "    cache = client.get(olca.Flow, row['id'])\n",
    "    \n",
    "    if row['in/out'] == 'in':\n",
    "        new_exchange = olca.input_of(new_process, cache, row['amount'])\n",
    "    elif row['in/out'] == 'out':\n",
    "        new_exchange = olca.output_of(new_process, cache, row['amount'])\n",
    "    \n",
    "    if row['ref flow'] == True:\n",
    "        new_exchange.quantitative_reference = True\n",
    "    elif row['ref flow'] == False:\n",
    "        new_exchange.default_provider = client.get(olca.Process, row['provider'])\n",
    "        \n",
    "    list_exchanges.append(new_exchange)\n",
    "\n",
    "list_exchanges"
   ]
  },
  {
   "cell_type": "code",
   "execution_count": null,
   "id": "4c0045f1-4634-48de-9429-690e92234d8a",
   "metadata": {},
   "outputs": [],
   "source": []
  }
 ],
 "metadata": {
  "kernelspec": {
   "display_name": "Python 3 (ipykernel)",
   "language": "python",
   "name": "python3"
  },
  "language_info": {
   "codemirror_mode": {
    "name": "ipython",
    "version": 3
   },
   "file_extension": ".py",
   "mimetype": "text/x-python",
   "name": "python",
   "nbconvert_exporter": "python",
   "pygments_lexer": "ipython3",
   "version": "3.10.0"
  }
 },
 "nbformat": 4,
 "nbformat_minor": 5
}
