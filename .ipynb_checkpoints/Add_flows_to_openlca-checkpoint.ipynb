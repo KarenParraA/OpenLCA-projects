{
 "cells": [
  {
   "cell_type": "markdown",
   "id": "88841029-abfb-4553-aea6-ca7038c7f825",
   "metadata": {},
   "source": [
    "# Script for comparing and creating new flows in OpenLCA from a DataFrame\n",
    "## GreenDelta tutorial based\n"
   ]
  },
  {
   "cell_type": "code",
   "execution_count": 1,
   "id": "870489cf-79a8-4126-a4ec-8694d94b1cf1",
   "metadata": {},
   "outputs": [
    {
     "data": {
      "text/plain": [
       "<olca.ipc.Client at 0x1e2f7362290>"
      ]
     },
     "execution_count": 1,
     "metadata": {},
     "output_type": "execute_result"
    }
   ],
   "source": [
    "from notebook.services.config import ConfigManager\n",
    "cm = ConfigManager()\n",
    "cm.update('notebook', {'highlight_selected_word': {\n",
    "    'highlight_across_all_cells': True,\n",
    "    'only_cells_in_scroll': False,\n",
    "    'delay': 500,\n",
    "    'code_cells_only': True,\n",
    "}})\n",
    "\n",
    "import pandas as pd\n",
    "import olca\n",
    "import uuid\n",
    "import math\n",
    "from datetime import datetime\n",
    "\n",
    "from matplotlib import pyplot as plt\n",
    "import matplotlib.mlab as mlab\n",
    "from matplotlib import rcParams\n",
    "import matplotlib.patches as mpatches\n",
    "import seaborn as sns\n",
    "\n",
    "params = {'mathtext.default': 'regular' }\n",
    "\n",
    "client = olca.Client(8080)\n",
    "client"
   ]
  },
  {
   "cell_type": "markdown",
   "id": "ba7754bb-72bf-44c6-8067-5dcde3562e24",
   "metadata": {},
   "source": [
    "# Análisis de ciclo de vida del siguiente estudio científico"
   ]
  },
  {
   "cell_type": "code",
   "execution_count": 36,
   "id": "d226de07-c9f6-4a91-acc4-9c4ece77fb53",
   "metadata": {
    "tags": []
   },
   "outputs": [
    {
     "data": {
      "text/html": [
       "\n",
       "        <iframe\n",
       "            width=\"1000\"\n",
       "            height=\"300\"\n",
       "            src=\"https://www.sciencedirect.com/science/article/abs/pii/S0301421508005430\"\n",
       "            frameborder=\"0\"\n",
       "            allowfullscreen\n",
       "            \n",
       "        ></iframe>\n",
       "        "
      ],
      "text/plain": [
       "<IPython.lib.display.IFrame at 0x1ce495ee050>"
      ]
     },
     "execution_count": 36,
     "metadata": {},
     "output_type": "execute_result"
    }
   ],
   "source": [
    "from IPython.display import IFrame\n",
    "\n",
    "IFrame(src='https://www.sciencedirect.com/science/article/abs/pii/S0301421508005430', width=1000, height=300)"
   ]
  },
  {
   "cell_type": "markdown",
   "id": "63a775da-2992-49e4-8c0d-33cf3183d2db",
   "metadata": {},
   "source": [
    "# Limpieza de la base de datos obtenido del PDF\n",
    "### El archivo excel con los flujos e información de cada proceso se encuentra dentro de este proyecto"
   ]
  },
  {
   "cell_type": "code",
   "execution_count": 2,
   "id": "1550c368-eb07-4065-9714-b8df19964664",
   "metadata": {},
   "outputs": [
    {
     "data": {
      "text/html": [
       "<div>\n",
       "<style scoped>\n",
       "    .dataframe tbody tr th:only-of-type {\n",
       "        vertical-align: middle;\n",
       "    }\n",
       "\n",
       "    .dataframe tbody tr th {\n",
       "        vertical-align: top;\n",
       "    }\n",
       "\n",
       "    .dataframe thead th {\n",
       "        text-align: right;\n",
       "    }\n",
       "</style>\n",
       "<table border=\"1\" class=\"dataframe\">\n",
       "  <thead>\n",
       "    <tr style=\"text-align: right;\">\n",
       "      <th></th>\n",
       "      <th>API field</th>\n",
       "      <th>flow name</th>\n",
       "      <th>UUID dataset</th>\n",
       "      <th>flow property</th>\n",
       "      <th>unit</th>\n",
       "      <th>type</th>\n",
       "      <th>is reference flow?</th>\n",
       "      <th>in/out</th>\n",
       "      <th>sugarcane cultivation and transport to refinery</th>\n",
       "      <th>bioethanol production, from sugarcane</th>\n",
       "      <th>soybean cultivation and transport to refinery</th>\n",
       "      <th>biodiesel production, from soybean</th>\n",
       "      <th>rape seed cultivation and transport to refinery</th>\n",
       "      <th>biodiesel production, from rape seed</th>\n",
       "    </tr>\n",
       "  </thead>\n",
       "  <tbody>\n",
       "    <tr>\n",
       "      <th>0</th>\n",
       "      <td>description</td>\n",
       "      <td>NaN</td>\n",
       "      <td>NaN</td>\n",
       "      <td>NaN</td>\n",
       "      <td>NaN</td>\n",
       "      <td>NaN</td>\n",
       "      <td>NaN</td>\n",
       "      <td>NaN</td>\n",
       "      <td>The process of sugarcane cultivation contains ...</td>\n",
       "      <td>Due to lack of steam and heat data used in boi...</td>\n",
       "      <td>Dataset contains crop cultivation and transpor...</td>\n",
       "      <td>Based on doi:10.1016/j.enpol.2008.09.076.</td>\n",
       "      <td>Based on doi:10.1016/j.enpol.2008.09.076.</td>\n",
       "      <td>Based on doi:10.1016/j.enpol.2008.09.076.</td>\n",
       "    </tr>\n",
       "    <tr>\n",
       "      <th>1</th>\n",
       "      <td>location</td>\n",
       "      <td>NaN</td>\n",
       "      <td>NaN</td>\n",
       "      <td>NaN</td>\n",
       "      <td>NaN</td>\n",
       "      <td>NaN</td>\n",
       "      <td>NaN</td>\n",
       "      <td>NaN</td>\n",
       "      <td>255a5cac-7685-3722-b4d0-2f04c37be771</td>\n",
       "      <td>255a5cac-7685-3722-b4d0-2f04c37be771</td>\n",
       "      <td>255a5cac-7685-3722-b4d0-2f04c37be771</td>\n",
       "      <td>255a5cac-7685-3722-b4d0-2f04c37be771</td>\n",
       "      <td>255a5cac-7685-3722-b4d0-2f04c37be771</td>\n",
       "      <td>255a5cac-7685-3722-b4d0-2f04c37be771</td>\n",
       "    </tr>\n",
       "    <tr>\n",
       "      <th>2</th>\n",
       "      <td>product input flow 1</td>\n",
       "      <td>diesel</td>\n",
       "      <td>291fc06d-1b3e-4077-aabb-346b588ed24b</td>\n",
       "      <td>Mass</td>\n",
       "      <td>kg</td>\n",
       "      <td>PRODUCT_FLOW</td>\n",
       "      <td>0.0</td>\n",
       "      <td>in</td>\n",
       "      <td>124384</td>\n",
       "      <td>23296</td>\n",
       "      <td>589056</td>\n",
       "      <td>1664</td>\n",
       "      <td>668928</td>\n",
       "      <td>343616</td>\n",
       "    </tr>\n",
       "  </tbody>\n",
       "</table>\n",
       "</div>"
      ],
      "text/plain": [
       "              API field flow name                          UUID dataset  \\\n",
       "0           description       NaN                                   NaN   \n",
       "1              location       NaN                                   NaN   \n",
       "2  product input flow 1    diesel  291fc06d-1b3e-4077-aabb-346b588ed24b   \n",
       "\n",
       "  flow property unit          type  is reference flow? in/out  \\\n",
       "0           NaN  NaN           NaN                 NaN    NaN   \n",
       "1           NaN  NaN           NaN                 NaN    NaN   \n",
       "2          Mass   kg  PRODUCT_FLOW                 0.0     in   \n",
       "\n",
       "     sugarcane cultivation and transport to refinery  \\\n",
       "0  The process of sugarcane cultivation contains ...   \n",
       "1               255a5cac-7685-3722-b4d0-2f04c37be771   \n",
       "2                                             124384   \n",
       "\n",
       "               bioethanol production, from sugarcane  \\\n",
       "0  Due to lack of steam and heat data used in boi...   \n",
       "1               255a5cac-7685-3722-b4d0-2f04c37be771   \n",
       "2                                              23296   \n",
       "\n",
       "       soybean cultivation and transport to refinery  \\\n",
       "0  Dataset contains crop cultivation and transpor...   \n",
       "1               255a5cac-7685-3722-b4d0-2f04c37be771   \n",
       "2                                             589056   \n",
       "\n",
       "          biodiesel production, from soybean  \\\n",
       "0  Based on doi:10.1016/j.enpol.2008.09.076.   \n",
       "1       255a5cac-7685-3722-b4d0-2f04c37be771   \n",
       "2                                       1664   \n",
       "\n",
       "  rape seed cultivation and transport to refinery  \\\n",
       "0       Based on doi:10.1016/j.enpol.2008.09.076.   \n",
       "1            255a5cac-7685-3722-b4d0-2f04c37be771   \n",
       "2                                          668928   \n",
       "\n",
       "        biodiesel production, from rape seed  \n",
       "0  Based on doi:10.1016/j.enpol.2008.09.076.  \n",
       "1       255a5cac-7685-3722-b4d0-2f04c37be771  \n",
       "2                                     343616  "
      ]
     },
     "execution_count": 2,
     "metadata": {},
     "output_type": "execute_result"
    }
   ],
   "source": [
    "#import excel file and select the correct worksheet\n",
    "excel = pd.ExcelFile('Biofuels_Taiwan.xlsx')\n",
    "\n",
    "df_readout = pd.read_excel(excel)\n",
    "\n",
    "df_readout.dropna(axis=1, how='all', inplace=True)                      #drop empty process columns (all values equal NaN)\n",
    "df_readout.dropna(axis=0, how='all', inplace=True)                      #drop empty rows (all values equal NaN)\n",
    "df_readout.reset_index(drop=True, inplace=True)                         #reset index\n",
    "\n",
    "process_columns = list(df_readout.iloc[:,8:])\n",
    "\n",
    "df_amounts = df_readout[process_columns].iloc[4:]                       #create df with only flow amounts\n",
    "#df_amounts.fillna(0, inplace=True)                                      #fill NaN with 0\n",
    "df_amounts.reset_index(drop=True, inplace=True)\n",
    "\n",
    "process_count = len(process_columns)                                    #get max no of to import processes\n",
    "\n",
    "exchange_list = [[] for i in range(process_count)]                      #create empty exchange lists for all processes\n",
    "\n",
    "\n",
    "flow_properties = []\n",
    "flow_units =[]\n",
    "is_ref_flow = []\n",
    "in_or_out = []\n",
    "flows = []\n",
    "\n",
    "process_location = olca.Location()\n",
    "process_documentation = olca.ProcessDocumentation()\n",
    "\n",
    "df_readout.head(3)"
   ]
  },
  {
   "cell_type": "markdown",
   "id": "5ddffff1-1439-4069-b89e-2d454bf3627e",
   "metadata": {},
   "source": [
    "# Creating new openLCA objects and linking imported data\n",
    "## Finding corresponding flows and/or creating new flows"
   ]
  },
  {
   "cell_type": "code",
   "execution_count": 3,
   "id": "bffdd4b4-2bfe-40d6-841c-5d0f0bd644fb",
   "metadata": {},
   "outputs": [
    {
     "name": "stderr",
     "output_type": "stream",
     "text": [
      "ERROR:root:failed to get entity of type <class 'olca.schema.Flow'>: 404: Not found\n",
      "ERROR:root:failed to get entity of type <class 'olca.schema.Flow'>: 404: Not found\n",
      "ERROR:root:failed to get entity of type <class 'olca.schema.Flow'>: 404: Not found\n",
      "ERROR:root:failed to get entity of type <class 'olca.schema.Flow'>: 404: Not found\n",
      "ERROR:root:failed to get entity of type <class 'olca.schema.Flow'>: 404: Not found\n",
      "ERROR:root:failed to get entity of type <class 'olca.schema.Flow'>: 404: Not found\n",
      "ERROR:root:failed to get entity of type <class 'olca.schema.Flow'>: 404: Not found\n",
      "ERROR:root:failed to get entity of type <class 'olca.schema.Flow'>: 404: Not found\n",
      "ERROR:root:failed to get entity of type <class 'olca.schema.Flow'>: 404: Not found\n",
      "ERROR:root:failed to get entity of type <class 'olca.schema.Flow'>: 404: Not found\n"
     ]
    },
    {
     "name": "stdout",
     "output_type": "stream",
     "text": [
      "\u001b[1mlist of imported flows:\n"
     ]
    },
    {
     "ename": "AttributeError",
     "evalue": "'NoneType' object has no attribute 'name'",
     "output_type": "error",
     "traceback": [
      "\u001b[1;31m---------------------------------------------------------------------------\u001b[0m",
      "\u001b[1;31mAttributeError\u001b[0m                            Traceback (most recent call last)",
      "\u001b[1;32m~\\AppData\\Local\\Temp/ipykernel_16808/3607745740.py\u001b[0m in \u001b[0;36m<module>\u001b[1;34m\u001b[0m\n\u001b[0;32m     47\u001b[0m \u001b[0mimported_flows\u001b[0m \u001b[1;33m=\u001b[0m \u001b[1;33m[\u001b[0m\u001b[1;33m]\u001b[0m\u001b[1;33m\u001b[0m\u001b[1;33m\u001b[0m\u001b[0m\n\u001b[0;32m     48\u001b[0m \u001b[1;32mfor\u001b[0m \u001b[0mi\u001b[0m \u001b[1;32min\u001b[0m \u001b[0mrange\u001b[0m\u001b[1;33m(\u001b[0m\u001b[0mlen\u001b[0m\u001b[1;33m(\u001b[0m\u001b[0mflows\u001b[0m\u001b[1;33m)\u001b[0m\u001b[1;33m)\u001b[0m\u001b[1;33m:\u001b[0m\u001b[1;33m\u001b[0m\u001b[1;33m\u001b[0m\u001b[0m\n\u001b[1;32m---> 49\u001b[1;33m     \u001b[0mimported_flows\u001b[0m\u001b[1;33m.\u001b[0m\u001b[0mappend\u001b[0m\u001b[1;33m(\u001b[0m\u001b[0mflows\u001b[0m\u001b[1;33m[\u001b[0m\u001b[0mi\u001b[0m\u001b[1;33m]\u001b[0m\u001b[1;33m.\u001b[0m\u001b[0mname\u001b[0m\u001b[1;33m)\u001b[0m\u001b[1;33m\u001b[0m\u001b[1;33m\u001b[0m\u001b[0m\n\u001b[0m\u001b[0;32m     50\u001b[0m \u001b[1;33m\u001b[0m\u001b[0m\n\u001b[0;32m     51\u001b[0m df_imported_flows = pd.DataFrame(list(zip(imported_flows,\n",
      "\u001b[1;31mAttributeError\u001b[0m: 'NoneType' object has no attribute 'name'"
     ]
    }
   ],
   "source": [
    "dt_object = datetime.fromtimestamp(datetime.timestamp(datetime.now()))\n",
    "\n",
    "flows = []\n",
    "for index, row in df_readout.iloc[4:].iterrows():\n",
    "    cache = row['UUID dataset']\n",
    "    \n",
    "    #extracting information on flow property \n",
    "    flow_property = client.find(olca.FlowProperty, df_readout.loc[index, 'flow property'])\n",
    "    flow_properties.append(flow_property)\n",
    "    \n",
    "    #extracting information on unit \n",
    "    unit = client.find(olca.Unit, df_readout.loc[index, 'unit'])\n",
    "    flow_units.append(unit)\n",
    "    \n",
    "    is_ref_flow.append(df_readout.loc[index, 'is reference flow?'])\n",
    "    in_or_out.append(df_readout.loc[index, 'in/out'])\n",
    "        \n",
    "    if cache == 'new_flow':      \n",
    "        new_flow = olca.Flow()\n",
    "        new_flow.olca_type = 'Flow'\n",
    "        new_flow.id = str(uuid.uuid4())      \n",
    "        new_flow.flow_type = olca.FlowType[df_readout.loc[index, 'type']]      \n",
    "        new_flow.name = df_readout.loc[index, 'flow name']\n",
    "        new_flow.description = 'Added as new flow from the olca-ipc python API on %s.\\nImported file name: %s' % (dt_object, excel.io)\n",
    "        \n",
    "        flow_property_factor = olca.FlowPropertyFactor()\n",
    "        flow_property_factor.conversion_factor = 1.0\n",
    "        flow_property_factor.flow_property = flow_property\n",
    "        flow_property_factor.reference_flow_property = True\n",
    "        \n",
    "        new_flow.flow_properties = [flow_property_factor]\n",
    "        \n",
    "        client.insert(new_flow)\n",
    "        \n",
    "        cache = client.get(olca.Flow, new_flow.id)\n",
    "        flows.append(cache)\n",
    "        \n",
    "    elif cache == 'new_flow-multi_use':\n",
    "        helper = client.find(olca.Flow, df_readout.loc[index, 'flow name'])\n",
    "        cache = client.get(olca.Flow, helper.id)\n",
    "        flows.append(cache)        \n",
    "    else:\n",
    "        cache = client.get(olca.Flow, row['UUID dataset'])\n",
    "        flows.append(cache)\n",
    "print('\\033[1m' + 'list of imported flows:')\n",
    "\n",
    "imported_flows = []\n",
    "for i in range(len(flows)):\n",
    "    imported_flows.append(flows[i].name)\n",
    "\n",
    "df_imported_flows = pd.DataFrame(list(zip(imported_flows,\n",
    "                                         in_or_out)),\n",
    "                                columns=['flow', 'in/out'])\n",
    "df_imported_flows"
   ]
  },
  {
   "cell_type": "code",
   "execution_count": null,
   "id": "fd66e3e3-7424-4c3d-8f3c-fcc26a06078a",
   "metadata": {},
   "outputs": [],
   "source": []
  }
 ],
 "metadata": {
  "kernelspec": {
   "display_name": "Python 3 (ipykernel)",
   "language": "python",
   "name": "python3"
  },
  "language_info": {
   "codemirror_mode": {
    "name": "ipython",
    "version": 3
   },
   "file_extension": ".py",
   "mimetype": "text/x-python",
   "name": "python",
   "nbconvert_exporter": "python",
   "pygments_lexer": "ipython3",
   "version": "3.10.0"
  }
 },
 "nbformat": 4,
 "nbformat_minor": 5
}
